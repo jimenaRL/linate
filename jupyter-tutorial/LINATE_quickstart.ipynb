{
 "cells": [
  {
   "cell_type": "markdown",
   "id": "1ec69919",
   "metadata": {},
   "source": [
    "# LINATE Quickstart Tutorial"
   ]
  },
  {
   "cell_type": "markdown",
   "id": "940afadf",
   "metadata": {},
   "source": [
    "LINATE stands for \"Language-Independent Network ATtitudinal Embedding\". As its name suggests, it's a module for embedding social networks (graphs) in attitudinal spaces. Attitudinal spaces are geometrical opinion spaces where dimensions act as indicators of positive or negative opinions (i.e., attitudes) towards identifiable attitudinal objects (e.g., ideological positions such as left- or right-wing ideologies, or policy positions such as increasing tax redistribution, or increasing environmental protection).\n",
    "\n",
    "This module provides tools for two methods: \n",
    "\n",
    "1) Ideological embedding: producing a graph embedding in an latent ideological space, where dimensions don't have explicit meaning, but are related to an homophilic model underlying the choises of users forming the graph.\n",
    "\n",
    "2) Attitudinal embedding: mapping this embedded graph onto a second space that does have explicit meaning for its dimensions. For this, the module uses the position of some reference points that have known positions in both spaces.\n",
    "\n",
    "Check our publication for further details:\n",
    "\n",
    "Ramaciotti Morales, Pedro ,Jean-Philippe Cointet, Gabriel Muñoz Zolotoochin, Antonio Fernández Peralta, Gerardo Iñiguez, and Armin Pournaki. \"Inferring Attitudinal Spaces in Social Networks.\" (2022).\n",
    "https://hal.archives-ouvertes.fr/hal-03573188/document\n"
   ]
  },
  {
   "cell_type": "markdown",
   "id": "f32ca854",
   "metadata": {},
   "source": [
    "## Embedding a bipartite graph in latent its ideological space"
   ]
  },
  {
   "cell_type": "code",
   "execution_count": 1,
   "id": "e1f5a59a",
   "metadata": {},
   "outputs": [],
   "source": [
    "import pandas as pd\n",
    "from linate import IdeologicalEmbedding"
   ]
  },
  {
   "cell_type": "markdown",
   "id": "09a95c06",
   "metadata": {},
   "source": [
    "We load a bipartite social graph of reference users $i$ being followed (on Twitter) by users $j$. Each row must be an edge, i.e., a comma separated pair of node names. In this example, nodes $i$ are French parliamentarians on Twitter, and $j$ are their followers."
   ]
  },
  {
   "cell_type": "code",
   "execution_count": 2,
   "id": "4aec6a0a",
   "metadata": {},
   "outputs": [
    {
     "name": "stdout",
     "output_type": "stream",
     "text": [
      "columns :Index(['i', 'j'], dtype='object')\n",
      "edges: 1786372\n",
      "num. of reference nodes i: 691\n",
      "num. of follower nodes j: 306644\n"
     ]
    }
   ],
   "source": [
    "bipartite = pd.read_csv('bipartite_graph.csv',dtype=str)\n",
    "print('columns :'+str(bipartite.columns))\n",
    "print('edges: '+str(bipartite.shape[0]))\n",
    "print('num. of reference nodes i: '+ str(bipartite['i'].nunique()))\n",
    "print('num. of follower nodes j: '+ str(bipartite['j'].nunique()))"
   ]
  },
  {
   "cell_type": "markdown",
   "id": "4eb5893c",
   "metadata": {},
   "source": [
    "We load the model, choosing the number of latent dimensions of the embedding, and the number of neighbohrs that a users $j$ must have to be kept in the bipartite graph (we normally want users that have made enough choices)."
   ]
  },
  {
   "cell_type": "code",
   "execution_count": 3,
   "id": "06d82196",
   "metadata": {},
   "outputs": [
    {
     "name": "stdout",
     "output_type": "stream",
     "text": [
      "Using Ideological Embedding engine 'prince'.\n"
     ]
    }
   ],
   "source": [
    "ideoembedding_model = IdeologicalEmbedding(n_latent_dimensions = 2,in_degree_threshold = 3)"
   ]
  },
  {
   "cell_type": "markdown",
   "id": "ad872282",
   "metadata": {},
   "source": [
    "LINATE works with directed graphs because it models networks as social choices: who chooses to connect or follow whom. Thus, we need to specify the direction of edges, which nodes are the source (those that chose) and which ones are the target (those that are chosen).\n",
    "\n",
    "Note: there are different available \"engines\" that you should look out depending on how much memory you have on your machine. "
   ]
  },
  {
   "cell_type": "code",
   "execution_count": 4,
   "id": "a91a4022",
   "metadata": {},
   "outputs": [
    {
     "data": {
      "text/html": [
       "<div>\n",
       "<style scoped>\n",
       "    .dataframe tbody tr th:only-of-type {\n",
       "        vertical-align: middle;\n",
       "    }\n",
       "\n",
       "    .dataframe tbody tr th {\n",
       "        vertical-align: top;\n",
       "    }\n",
       "\n",
       "    .dataframe thead th {\n",
       "        text-align: right;\n",
       "    }\n",
       "</style>\n",
       "<table border=\"1\" class=\"dataframe\">\n",
       "  <thead>\n",
       "    <tr style=\"text-align: right;\">\n",
       "      <th></th>\n",
       "      <th>target</th>\n",
       "      <th>source</th>\n",
       "    </tr>\n",
       "  </thead>\n",
       "  <tbody>\n",
       "    <tr>\n",
       "      <th>0</th>\n",
       "      <td>645</td>\n",
       "      <td>108730</td>\n",
       "    </tr>\n",
       "    <tr>\n",
       "      <th>1</th>\n",
       "      <td>343</td>\n",
       "      <td>100259</td>\n",
       "    </tr>\n",
       "    <tr>\n",
       "      <th>2</th>\n",
       "      <td>659</td>\n",
       "      <td>63349</td>\n",
       "    </tr>\n",
       "    <tr>\n",
       "      <th>3</th>\n",
       "      <td>328</td>\n",
       "      <td>45266</td>\n",
       "    </tr>\n",
       "    <tr>\n",
       "      <th>4</th>\n",
       "      <td>182</td>\n",
       "      <td>40626</td>\n",
       "    </tr>\n",
       "    <tr>\n",
       "      <th>...</th>\n",
       "      <td>...</td>\n",
       "      <td>...</td>\n",
       "    </tr>\n",
       "    <tr>\n",
       "      <th>1786367</th>\n",
       "      <td>164</td>\n",
       "      <td>150817</td>\n",
       "    </tr>\n",
       "    <tr>\n",
       "      <th>1786368</th>\n",
       "      <td>94</td>\n",
       "      <td>129139</td>\n",
       "    </tr>\n",
       "    <tr>\n",
       "      <th>1786369</th>\n",
       "      <td>89</td>\n",
       "      <td>135913</td>\n",
       "    </tr>\n",
       "    <tr>\n",
       "      <th>1786370</th>\n",
       "      <td>164</td>\n",
       "      <td>257283</td>\n",
       "    </tr>\n",
       "    <tr>\n",
       "      <th>1786371</th>\n",
       "      <td>358</td>\n",
       "      <td>3118</td>\n",
       "    </tr>\n",
       "  </tbody>\n",
       "</table>\n",
       "<p>1786372 rows × 2 columns</p>\n",
       "</div>"
      ],
      "text/plain": [
       "        target  source\n",
       "0          645  108730\n",
       "1          343  100259\n",
       "2          659   63349\n",
       "3          328   45266\n",
       "4          182   40626\n",
       "...        ...     ...\n",
       "1786367    164  150817\n",
       "1786368     94  129139\n",
       "1786369     89  135913\n",
       "1786370    164  257283\n",
       "1786371    358    3118\n",
       "\n",
       "[1786372 rows x 2 columns]"
      ]
     },
     "execution_count": 4,
     "metadata": {},
     "output_type": "execute_result"
    }
   ],
   "source": [
    "bipartite.rename(columns={'i':'target','j':'source'},inplace=True)\n",
    "bipartite"
   ]
  },
  {
   "cell_type": "markdown",
   "id": "d662ea81",
   "metadata": {},
   "source": [
    "Alternatively, you can use the provided data loader."
   ]
  },
  {
   "cell_type": "code",
   "execution_count": 6,
   "id": "a05aec34",
   "metadata": {},
   "outputs": [
    {
     "name": "stdout",
     "output_type": "stream",
     "text": [
      "Network loaded.\n"
     ]
    }
   ],
   "source": [
    "bipartite = ideoembedding_model.load_input_from_file(\n",
    "    'bipartite_graph.csv',\n",
    "    header_names={'target':'i','source':'j'})"
   ]
  },
  {
   "cell_type": "code",
   "execution_count": 7,
   "id": "0fb216f7",
   "metadata": {},
   "outputs": [
    {
     "name": "stdout",
     "output_type": "stream",
     "text": [
      "Bipartite network: False\n",
      "Computing Ideological Embedding... done.\n"
     ]
    },
    {
     "data": {
      "text/plain": [
       "IdeologicalEmbedding(in_degree_threshold=3)"
      ]
     },
     "execution_count": 7,
     "metadata": {},
     "output_type": "execute_result"
    }
   ],
   "source": [
    "ideoembedding_model.fit(bipartite)"
   ]
  },
  {
   "cell_type": "markdown",
   "id": "ca4ae7fe",
   "metadata": {},
   "source": [
    "Once the ideological model is computed, we can retrieve the coordinates of the target nodes in the selected number of dimensions..."
   ]
  },
  {
   "cell_type": "code",
   "execution_count": 8,
   "id": "a037aafe",
   "metadata": {},
   "outputs": [
    {
     "data": {
      "text/html": [
       "<div>\n",
       "<style scoped>\n",
       "    .dataframe tbody tr th:only-of-type {\n",
       "        vertical-align: middle;\n",
       "    }\n",
       "\n",
       "    .dataframe tbody tr th {\n",
       "        vertical-align: top;\n",
       "    }\n",
       "\n",
       "    .dataframe thead th {\n",
       "        text-align: right;\n",
       "    }\n",
       "</style>\n",
       "<table border=\"1\" class=\"dataframe\">\n",
       "  <thead>\n",
       "    <tr style=\"text-align: right;\">\n",
       "      <th></th>\n",
       "      <th>latent_dimension_0</th>\n",
       "      <th>latent_dimension_1</th>\n",
       "    </tr>\n",
       "    <tr>\n",
       "      <th>target_id</th>\n",
       "      <th></th>\n",
       "      <th></th>\n",
       "    </tr>\n",
       "  </thead>\n",
       "  <tbody>\n",
       "    <tr>\n",
       "      <th>645</th>\n",
       "      <td>0.837963</td>\n",
       "      <td>0.862132</td>\n",
       "    </tr>\n",
       "    <tr>\n",
       "      <th>343</th>\n",
       "      <td>0.888378</td>\n",
       "      <td>0.790544</td>\n",
       "    </tr>\n",
       "    <tr>\n",
       "      <th>659</th>\n",
       "      <td>0.874285</td>\n",
       "      <td>0.751741</td>\n",
       "    </tr>\n",
       "    <tr>\n",
       "      <th>328</th>\n",
       "      <td>0.544884</td>\n",
       "      <td>0.504877</td>\n",
       "    </tr>\n",
       "    <tr>\n",
       "      <th>182</th>\n",
       "      <td>0.565321</td>\n",
       "      <td>-0.144259</td>\n",
       "    </tr>\n",
       "    <tr>\n",
       "      <th>...</th>\n",
       "      <td>...</td>\n",
       "      <td>...</td>\n",
       "    </tr>\n",
       "    <tr>\n",
       "      <th>184</th>\n",
       "      <td>1.059064</td>\n",
       "      <td>0.330465</td>\n",
       "    </tr>\n",
       "    <tr>\n",
       "      <th>35</th>\n",
       "      <td>1.040288</td>\n",
       "      <td>0.233440</td>\n",
       "    </tr>\n",
       "    <tr>\n",
       "      <th>761</th>\n",
       "      <td>0.784578</td>\n",
       "      <td>0.769968</td>\n",
       "    </tr>\n",
       "    <tr>\n",
       "      <th>744</th>\n",
       "      <td>0.823934</td>\n",
       "      <td>0.402179</td>\n",
       "    </tr>\n",
       "    <tr>\n",
       "      <th>804</th>\n",
       "      <td>0.691907</td>\n",
       "      <td>0.785445</td>\n",
       "    </tr>\n",
       "  </tbody>\n",
       "</table>\n",
       "<p>691 rows × 2 columns</p>\n",
       "</div>"
      ],
      "text/plain": [
       "           latent_dimension_0  latent_dimension_1\n",
       "target_id                                        \n",
       "645                  0.837963            0.862132\n",
       "343                  0.888378            0.790544\n",
       "659                  0.874285            0.751741\n",
       "328                  0.544884            0.504877\n",
       "182                  0.565321           -0.144259\n",
       "...                       ...                 ...\n",
       "184                  1.059064            0.330465\n",
       "35                   1.040288            0.233440\n",
       "761                  0.784578            0.769968\n",
       "744                  0.823934            0.402179\n",
       "804                  0.691907            0.785445\n",
       "\n",
       "[691 rows x 2 columns]"
      ]
     },
     "execution_count": 8,
     "metadata": {},
     "output_type": "execute_result"
    }
   ],
   "source": [
    "target_coords = ideoembedding_model.ideological_embedding_target_latent_dimensions_\n",
    "target_coords"
   ]
  },
  {
   "cell_type": "markdown",
   "id": "90a3f31a",
   "metadata": {},
   "source": [
    "... and the coordinates of the followers."
   ]
  },
  {
   "cell_type": "code",
   "execution_count": 9,
   "id": "b3ddd3be",
   "metadata": {},
   "outputs": [
    {
     "data": {
      "text/html": [
       "<div>\n",
       "<style scoped>\n",
       "    .dataframe tbody tr th:only-of-type {\n",
       "        vertical-align: middle;\n",
       "    }\n",
       "\n",
       "    .dataframe tbody tr th {\n",
       "        vertical-align: top;\n",
       "    }\n",
       "\n",
       "    .dataframe thead th {\n",
       "        text-align: right;\n",
       "    }\n",
       "</style>\n",
       "<table border=\"1\" class=\"dataframe\">\n",
       "  <thead>\n",
       "    <tr style=\"text-align: right;\">\n",
       "      <th></th>\n",
       "      <th>latent_dimension_0</th>\n",
       "      <th>latent_dimension_1</th>\n",
       "    </tr>\n",
       "    <tr>\n",
       "      <th>source_id</th>\n",
       "      <th></th>\n",
       "      <th></th>\n",
       "    </tr>\n",
       "  </thead>\n",
       "  <tbody>\n",
       "    <tr>\n",
       "      <th>108730</th>\n",
       "      <td>0.107242</td>\n",
       "      <td>0.550253</td>\n",
       "    </tr>\n",
       "    <tr>\n",
       "      <th>307685</th>\n",
       "      <td>0.790634</td>\n",
       "      <td>1.109493</td>\n",
       "    </tr>\n",
       "    <tr>\n",
       "      <th>297595</th>\n",
       "      <td>0.700424</td>\n",
       "      <td>0.587862</td>\n",
       "    </tr>\n",
       "    <tr>\n",
       "      <th>4117</th>\n",
       "      <td>0.721815</td>\n",
       "      <td>0.922977</td>\n",
       "    </tr>\n",
       "    <tr>\n",
       "      <th>21901</th>\n",
       "      <td>1.055949</td>\n",
       "      <td>0.970085</td>\n",
       "    </tr>\n",
       "    <tr>\n",
       "      <th>...</th>\n",
       "      <td>...</td>\n",
       "      <td>...</td>\n",
       "    </tr>\n",
       "    <tr>\n",
       "      <th>256106</th>\n",
       "      <td>1.318862</td>\n",
       "      <td>0.383285</td>\n",
       "    </tr>\n",
       "    <tr>\n",
       "      <th>256109</th>\n",
       "      <td>1.318862</td>\n",
       "      <td>0.383285</td>\n",
       "    </tr>\n",
       "    <tr>\n",
       "      <th>42777</th>\n",
       "      <td>1.294079</td>\n",
       "      <td>0.251033</td>\n",
       "    </tr>\n",
       "    <tr>\n",
       "      <th>27665</th>\n",
       "      <td>1.294079</td>\n",
       "      <td>0.251033</td>\n",
       "    </tr>\n",
       "    <tr>\n",
       "      <th>307889</th>\n",
       "      <td>0.956560</td>\n",
       "      <td>0.982360</td>\n",
       "    </tr>\n",
       "  </tbody>\n",
       "</table>\n",
       "<p>305965 rows × 2 columns</p>\n",
       "</div>"
      ],
      "text/plain": [
       "           latent_dimension_0  latent_dimension_1\n",
       "source_id                                        \n",
       "108730               0.107242            0.550253\n",
       "307685               0.790634            1.109493\n",
       "297595               0.700424            0.587862\n",
       "4117                 0.721815            0.922977\n",
       "21901                1.055949            0.970085\n",
       "...                       ...                 ...\n",
       "256106               1.318862            0.383285\n",
       "256109               1.318862            0.383285\n",
       "42777                1.294079            0.251033\n",
       "27665                1.294079            0.251033\n",
       "307889               0.956560            0.982360\n",
       "\n",
       "[305965 rows x 2 columns]"
      ]
     },
     "execution_count": 9,
     "metadata": {},
     "output_type": "execute_result"
    }
   ],
   "source": [
    "source_coords = ideoembedding_model.ideological_embedding_source_latent_dimensions_\n",
    "source_coords"
   ]
  },
  {
   "cell_type": "markdown",
   "id": "433bdd5d",
   "metadata": {},
   "source": [
    "Reference users often come in groups, which is helpful for interpreting what dimensions are capturing. For this, we need a file identifying each reference users $i$ with a group $k$. In our example, parliamentarians belong to parties."
   ]
  },
  {
   "cell_type": "code",
   "execution_count": 10,
   "id": "06325a74",
   "metadata": {},
   "outputs": [
    {
     "data": {
      "text/html": [
       "<div>\n",
       "<style scoped>\n",
       "    .dataframe tbody tr th:only-of-type {\n",
       "        vertical-align: middle;\n",
       "    }\n",
       "\n",
       "    .dataframe tbody tr th {\n",
       "        vertical-align: top;\n",
       "    }\n",
       "\n",
       "    .dataframe thead th {\n",
       "        text-align: right;\n",
       "    }\n",
       "</style>\n",
       "<table border=\"1\" class=\"dataframe\">\n",
       "  <thead>\n",
       "    <tr style=\"text-align: right;\">\n",
       "      <th></th>\n",
       "      <th>i</th>\n",
       "      <th>k</th>\n",
       "    </tr>\n",
       "  </thead>\n",
       "  <tbody>\n",
       "    <tr>\n",
       "      <th>0</th>\n",
       "      <td>0</td>\n",
       "      <td>0</td>\n",
       "    </tr>\n",
       "    <tr>\n",
       "      <th>1</th>\n",
       "      <td>1</td>\n",
       "      <td>0</td>\n",
       "    </tr>\n",
       "    <tr>\n",
       "      <th>2</th>\n",
       "      <td>2</td>\n",
       "      <td>0</td>\n",
       "    </tr>\n",
       "    <tr>\n",
       "      <th>3</th>\n",
       "      <td>3</td>\n",
       "      <td>0</td>\n",
       "    </tr>\n",
       "    <tr>\n",
       "      <th>4</th>\n",
       "      <td>4</td>\n",
       "      <td>0</td>\n",
       "    </tr>\n",
       "    <tr>\n",
       "      <th>...</th>\n",
       "      <td>...</td>\n",
       "      <td>...</td>\n",
       "    </tr>\n",
       "    <tr>\n",
       "      <th>822</th>\n",
       "      <td>822</td>\n",
       "      <td>9</td>\n",
       "    </tr>\n",
       "    <tr>\n",
       "      <th>823</th>\n",
       "      <td>823</td>\n",
       "      <td>9</td>\n",
       "    </tr>\n",
       "    <tr>\n",
       "      <th>824</th>\n",
       "      <td>824</td>\n",
       "      <td>9</td>\n",
       "    </tr>\n",
       "    <tr>\n",
       "      <th>825</th>\n",
       "      <td>825</td>\n",
       "      <td>9</td>\n",
       "    </tr>\n",
       "    <tr>\n",
       "      <th>826</th>\n",
       "      <td>826</td>\n",
       "      <td>9</td>\n",
       "    </tr>\n",
       "  </tbody>\n",
       "</table>\n",
       "<p>827 rows × 2 columns</p>\n",
       "</div>"
      ],
      "text/plain": [
       "       i  k\n",
       "0      0  0\n",
       "1      1  0\n",
       "2      2  0\n",
       "3      3  0\n",
       "4      4  0\n",
       "..   ... ..\n",
       "822  822  9\n",
       "823  823  9\n",
       "824  824  9\n",
       "825  825  9\n",
       "826  826  9\n",
       "\n",
       "[827 rows x 2 columns]"
      ]
     },
     "execution_count": 10,
     "metadata": {},
     "output_type": "execute_result"
    }
   ],
   "source": [
    "df_ref_group=pd.read_csv('reference_group.csv', dtype=str)\n",
    "df_ref_group"
   ]
  },
  {
   "cell_type": "markdown",
   "id": "30c300ca",
   "metadata": {},
   "source": [
    "Let's plot the ideological positions of references, followers, and groups. To plot users and groups, we attribute groups to target users:"
   ]
  },
  {
   "cell_type": "code",
   "execution_count": 11,
   "id": "8661fc69",
   "metadata": {},
   "outputs": [],
   "source": [
    "import seaborn as sn\n",
    "import matplotlib.pyplot as plt\n",
    "color_dic = {'0':'blue','1':'red','2':'gold','3':'orange','4':'green',\n",
    "             '5':'violet','6':'cyan','7':'magenta','8':'brown','9':'gray'}"
   ]
  },
  {
   "cell_type": "code",
   "execution_count": 12,
   "id": "aa256f80",
   "metadata": {},
   "outputs": [],
   "source": [
    "target_coords['k'] = target_coords.index.map(df_ref_group.set_index('i')['k'])"
   ]
  },
  {
   "cell_type": "code",
   "execution_count": 13,
   "id": "e7bb9a72",
   "metadata": {},
   "outputs": [
    {
     "data": {
      "image/png": "[encoded data removed]",
      "text/plain": [
       "<Figure size 432x432 with 3 Axes>"
      ]
     },
     "metadata": {
      "needs_background": "light"
     },
     "output_type": "display_data"
    }
   ],
   "source": [
    "g = sn.jointplot(data=source_coords.drop_duplicates(),x='latent_dimension_0',y='latent_dimension_1',kind=\"hex\")\n",
    "ax=g.ax_joint\n",
    "for k in target_coords['k'].unique():\n",
    "    df_k = target_coords[target_coords['k']==k]\n",
    "    ax.scatter(df_k['latent_dimension_0'],df_k['latent_dimension_1'],\n",
    "               marker='+',s=30,alpha=0.5,color=color_dic[k])"
   ]
  },
  {
   "cell_type": "markdown",
   "id": "c709436c",
   "metadata": {},
   "source": [
    "## Embedding a bipartite graph in an attitudinal reference space\n",
    "\n",
    "To embed map the network onto a space with explicit meanings for dimensions, we need reference points, such as the positions of parties for some issues."
   ]
  },
  {
   "cell_type": "code",
   "execution_count": 14,
   "id": "d7a96f91",
   "metadata": {},
   "outputs": [
    {
     "data": {
      "text/html": [
       "<div>\n",
       "<style scoped>\n",
       "    .dataframe tbody tr th:only-of-type {\n",
       "        vertical-align: middle;\n",
       "    }\n",
       "\n",
       "    .dataframe tbody tr th {\n",
       "        vertical-align: top;\n",
       "    }\n",
       "\n",
       "    .dataframe thead th {\n",
       "        text-align: right;\n",
       "    }\n",
       "</style>\n",
       "<table border=\"1\" class=\"dataframe\">\n",
       "  <thead>\n",
       "    <tr style=\"text-align: right;\">\n",
       "      <th></th>\n",
       "      <th>k</th>\n",
       "      <th>issue_1</th>\n",
       "      <th>issue_2</th>\n",
       "    </tr>\n",
       "  </thead>\n",
       "  <tbody>\n",
       "    <tr>\n",
       "      <th>0</th>\n",
       "      <td>1</td>\n",
       "      <td>2.875000</td>\n",
       "      <td>4.285714</td>\n",
       "    </tr>\n",
       "    <tr>\n",
       "      <th>1</th>\n",
       "      <td>2</td>\n",
       "      <td>0.875000</td>\n",
       "      <td>9.571428</td>\n",
       "    </tr>\n",
       "    <tr>\n",
       "      <th>2</th>\n",
       "      <td>3</td>\n",
       "      <td>8.125000</td>\n",
       "      <td>3.714286</td>\n",
       "    </tr>\n",
       "    <tr>\n",
       "      <th>3</th>\n",
       "      <td>4</td>\n",
       "      <td>6.333334</td>\n",
       "      <td>5.000000</td>\n",
       "    </tr>\n",
       "    <tr>\n",
       "      <th>4</th>\n",
       "      <td>5</td>\n",
       "      <td>6.250000</td>\n",
       "      <td>3.666667</td>\n",
       "    </tr>\n",
       "    <tr>\n",
       "      <th>5</th>\n",
       "      <td>6</td>\n",
       "      <td>1.125000</td>\n",
       "      <td>6.857143</td>\n",
       "    </tr>\n",
       "    <tr>\n",
       "      <th>6</th>\n",
       "      <td>8</td>\n",
       "      <td>3.125000</td>\n",
       "      <td>3.857143</td>\n",
       "    </tr>\n",
       "    <tr>\n",
       "      <th>7</th>\n",
       "      <td>9</td>\n",
       "      <td>6.875000</td>\n",
       "      <td>9.428572</td>\n",
       "    </tr>\n",
       "  </tbody>\n",
       "</table>\n",
       "</div>"
      ],
      "text/plain": [
       "   k   issue_1   issue_2\n",
       "0  1  2.875000  4.285714\n",
       "1  2  0.875000  9.571428\n",
       "2  3  8.125000  3.714286\n",
       "3  4  6.333334  5.000000\n",
       "4  5  6.250000  3.666667\n",
       "5  6  1.125000  6.857143\n",
       "6  8  3.125000  3.857143\n",
       "7  9  6.875000  9.428572"
      ]
     },
     "execution_count": 14,
     "metadata": {},
     "output_type": "execute_result"
    }
   ],
   "source": [
    "group_attitudes = pd.read_csv('group_attitudes.csv')\n",
    "group_attitudes['k'] = group_attitudes['k'].astype(str)\n",
    "group_attitudes"
   ]
  },
  {
   "cell_type": "markdown",
   "id": "659b3524",
   "metadata": {},
   "source": [
    "Because we know the positions of targets and their groups, we can compute group positions as means."
   ]
  },
  {
   "cell_type": "code",
   "execution_count": 15,
   "id": "b4d49246",
   "metadata": {},
   "outputs": [
    {
     "data": {
      "text/html": [
       "<div>\n",
       "<style scoped>\n",
       "    .dataframe tbody tr th:only-of-type {\n",
       "        vertical-align: middle;\n",
       "    }\n",
       "\n",
       "    .dataframe tbody tr th {\n",
       "        vertical-align: top;\n",
       "    }\n",
       "\n",
       "    .dataframe thead th {\n",
       "        text-align: right;\n",
       "    }\n",
       "</style>\n",
       "<table border=\"1\" class=\"dataframe\">\n",
       "  <thead>\n",
       "    <tr style=\"text-align: right;\">\n",
       "      <th></th>\n",
       "      <th>latent_dimension_0</th>\n",
       "      <th>latent_dimension_1</th>\n",
       "    </tr>\n",
       "    <tr>\n",
       "      <th>k</th>\n",
       "      <th></th>\n",
       "      <th></th>\n",
       "    </tr>\n",
       "  </thead>\n",
       "  <tbody>\n",
       "    <tr>\n",
       "      <th>0</th>\n",
       "      <td>0.830639</td>\n",
       "      <td>0.311642</td>\n",
       "    </tr>\n",
       "    <tr>\n",
       "      <th>1</th>\n",
       "      <td>-0.104247</td>\n",
       "      <td>0.956746</td>\n",
       "    </tr>\n",
       "    <tr>\n",
       "      <th>2</th>\n",
       "      <td>-1.606626</td>\n",
       "      <td>0.986588</td>\n",
       "    </tr>\n",
       "    <tr>\n",
       "      <th>3</th>\n",
       "      <td>0.826658</td>\n",
       "      <td>-0.009683</td>\n",
       "    </tr>\n",
       "    <tr>\n",
       "      <th>4</th>\n",
       "      <td>0.888845</td>\n",
       "      <td>0.799158</td>\n",
       "    </tr>\n",
       "    <tr>\n",
       "      <th>5</th>\n",
       "      <td>0.932746</td>\n",
       "      <td>0.707684</td>\n",
       "    </tr>\n",
       "    <tr>\n",
       "      <th>6</th>\n",
       "      <td>-0.908047</td>\n",
       "      <td>1.137756</td>\n",
       "    </tr>\n",
       "    <tr>\n",
       "      <th>7</th>\n",
       "      <td>0.491547</td>\n",
       "      <td>0.490506</td>\n",
       "    </tr>\n",
       "    <tr>\n",
       "      <th>8</th>\n",
       "      <td>0.499216</td>\n",
       "      <td>0.606797</td>\n",
       "    </tr>\n",
       "    <tr>\n",
       "      <th>9</th>\n",
       "      <td>-0.182970</td>\n",
       "      <td>-2.006722</td>\n",
       "    </tr>\n",
       "  </tbody>\n",
       "</table>\n",
       "</div>"
      ],
      "text/plain": [
       "   latent_dimension_0  latent_dimension_1\n",
       "k                                        \n",
       "0            0.830639            0.311642\n",
       "1           -0.104247            0.956746\n",
       "2           -1.606626            0.986588\n",
       "3            0.826658           -0.009683\n",
       "4            0.888845            0.799158\n",
       "5            0.932746            0.707684\n",
       "6           -0.908047            1.137756\n",
       "7            0.491547            0.490506\n",
       "8            0.499216            0.606797\n",
       "9           -0.182970           -2.006722"
      ]
     },
     "execution_count": 15,
     "metadata": {},
     "output_type": "execute_result"
    }
   ],
   "source": [
    "group_ideologies = target_coords.groupby('k').mean()\n",
    "group_ideologies"
   ]
  },
  {
   "cell_type": "code",
   "execution_count": 16,
   "id": "180aa718",
   "metadata": {},
   "outputs": [
    {
     "data": {
      "text/plain": [
       "Text(0.5, 1.0, 'Group positions in attitudinal space')"
      ]
     },
     "execution_count": 16,
     "metadata": {},
     "output_type": "execute_result"
    },
    {
     "data": {
      "image/png": "[encoded data removed]",
      "text/plain": [
       "<Figure size 720x288 with 2 Axes>"
      ]
     },
     "metadata": {
      "needs_background": "light"
     },
     "output_type": "display_data"
    }
   ],
   "source": [
    "fig = plt.figure(figsize=(10,4))# width, height inches\n",
    "ax = {1:fig.add_subplot(1,2,1),2:fig.add_subplot(1,2,2)}\n",
    "for k,row in group_ideologies[group_ideologies.index.isin(group_attitudes['k'])].iterrows():\n",
    "    ax[1].plot(row['latent_dimension_0'],row['latent_dimension_1'],'o',mec='k',color=color_dic[k])\n",
    "ax[1].set_xlabel('latent_dimension_0'),ax[1].set_ylabel('latent_dimension_1')\n",
    "ax[1].set_title('Group positions in ideological space')\n",
    "for k,row in group_attitudes.iterrows():\n",
    "    ax[2].plot(row['issue_1'],row['issue_2'],'o',mec='k',color=color_dic[row['k']])\n",
    "ax[2].set_xlabel('issue_1'),ax[2].set_ylabel('issue_2')\n",
    "ax[2].set_title('Group positions in attitudinal space')"
   ]
  },
  {
   "cell_type": "code",
   "execution_count": 17,
   "id": "eb1ea36c",
   "metadata": {},
   "outputs": [],
   "source": [
    "from linate import AttitudinalEmbedding\n",
    "attiembedding_model = AttitudinalEmbedding(N = 2)"
   ]
  },
  {
   "cell_type": "markdown",
   "id": "0a6098f4",
   "metadata": {},
   "source": [
    "We need a DataFrame containing the latent coordinates, but also name of the nodes:"
   ]
  },
  {
   "cell_type": "code",
   "execution_count": 18,
   "id": "2075befa",
   "metadata": {},
   "outputs": [
    {
     "data": {
      "text/html": [
       "<div>\n",
       "<style scoped>\n",
       "    .dataframe tbody tr th:only-of-type {\n",
       "        vertical-align: middle;\n",
       "    }\n",
       "\n",
       "    .dataframe tbody tr th {\n",
       "        vertical-align: top;\n",
       "    }\n",
       "\n",
       "    .dataframe thead th {\n",
       "        text-align: right;\n",
       "    }\n",
       "</style>\n",
       "<table border=\"1\" class=\"dataframe\">\n",
       "  <thead>\n",
       "    <tr style=\"text-align: right;\">\n",
       "      <th></th>\n",
       "      <th>latent_dimension_0</th>\n",
       "      <th>latent_dimension_1</th>\n",
       "      <th>k</th>\n",
       "      <th>entity</th>\n",
       "    </tr>\n",
       "    <tr>\n",
       "      <th>target_id</th>\n",
       "      <th></th>\n",
       "      <th></th>\n",
       "      <th></th>\n",
       "      <th></th>\n",
       "    </tr>\n",
       "  </thead>\n",
       "  <tbody>\n",
       "    <tr>\n",
       "      <th>645</th>\n",
       "      <td>0.837963</td>\n",
       "      <td>0.862132</td>\n",
       "      <td>5</td>\n",
       "      <td>645</td>\n",
       "    </tr>\n",
       "    <tr>\n",
       "      <th>343</th>\n",
       "      <td>0.888378</td>\n",
       "      <td>0.790544</td>\n",
       "      <td>4</td>\n",
       "      <td>343</td>\n",
       "    </tr>\n",
       "    <tr>\n",
       "      <th>659</th>\n",
       "      <td>0.874285</td>\n",
       "      <td>0.751741</td>\n",
       "      <td>5</td>\n",
       "      <td>659</td>\n",
       "    </tr>\n",
       "    <tr>\n",
       "      <th>328</th>\n",
       "      <td>0.544884</td>\n",
       "      <td>0.504877</td>\n",
       "      <td>4</td>\n",
       "      <td>328</td>\n",
       "    </tr>\n",
       "    <tr>\n",
       "      <th>182</th>\n",
       "      <td>0.565321</td>\n",
       "      <td>-0.144259</td>\n",
       "      <td>3</td>\n",
       "      <td>182</td>\n",
       "    </tr>\n",
       "    <tr>\n",
       "      <th>...</th>\n",
       "      <td>...</td>\n",
       "      <td>...</td>\n",
       "      <td>...</td>\n",
       "      <td>...</td>\n",
       "    </tr>\n",
       "    <tr>\n",
       "      <th>184</th>\n",
       "      <td>1.059064</td>\n",
       "      <td>0.330465</td>\n",
       "      <td>3</td>\n",
       "      <td>184</td>\n",
       "    </tr>\n",
       "    <tr>\n",
       "      <th>35</th>\n",
       "      <td>1.040288</td>\n",
       "      <td>0.233440</td>\n",
       "      <td>0</td>\n",
       "      <td>35</td>\n",
       "    </tr>\n",
       "    <tr>\n",
       "      <th>761</th>\n",
       "      <td>0.784578</td>\n",
       "      <td>0.769968</td>\n",
       "      <td>8</td>\n",
       "      <td>761</td>\n",
       "    </tr>\n",
       "    <tr>\n",
       "      <th>744</th>\n",
       "      <td>0.823934</td>\n",
       "      <td>0.402179</td>\n",
       "      <td>8</td>\n",
       "      <td>744</td>\n",
       "    </tr>\n",
       "    <tr>\n",
       "      <th>804</th>\n",
       "      <td>0.691907</td>\n",
       "      <td>0.785445</td>\n",
       "      <td>8</td>\n",
       "      <td>804</td>\n",
       "    </tr>\n",
       "  </tbody>\n",
       "</table>\n",
       "<p>691 rows × 4 columns</p>\n",
       "</div>"
      ],
      "text/plain": [
       "           latent_dimension_0  latent_dimension_1  k entity\n",
       "target_id                                                  \n",
       "645                  0.837963            0.862132  5    645\n",
       "343                  0.888378            0.790544  4    343\n",
       "659                  0.874285            0.751741  5    659\n",
       "328                  0.544884            0.504877  4    328\n",
       "182                  0.565321           -0.144259  3    182\n",
       "...                       ...                 ... ..    ...\n",
       "184                  1.059064            0.330465  3    184\n",
       "35                   1.040288            0.233440  0     35\n",
       "761                  0.784578            0.769968  8    761\n",
       "744                  0.823934            0.402179  8    744\n",
       "804                  0.691907            0.785445  8    804\n",
       "\n",
       "[691 rows x 4 columns]"
      ]
     },
     "execution_count": 18,
     "metadata": {},
     "output_type": "execute_result"
    }
   ],
   "source": [
    "target_coords['entity'] = target_coords.index \n",
    "target_coords"
   ]
  },
  {
   "cell_type": "code",
   "execution_count": 19,
   "id": "92c3c58f",
   "metadata": {},
   "outputs": [
    {
     "data": {
      "text/html": [
       "<div>\n",
       "<style scoped>\n",
       "    .dataframe tbody tr th:only-of-type {\n",
       "        vertical-align: middle;\n",
       "    }\n",
       "\n",
       "    .dataframe tbody tr th {\n",
       "        vertical-align: top;\n",
       "    }\n",
       "\n",
       "    .dataframe thead th {\n",
       "        text-align: right;\n",
       "    }\n",
       "</style>\n",
       "<table border=\"1\" class=\"dataframe\">\n",
       "  <thead>\n",
       "    <tr style=\"text-align: right;\">\n",
       "      <th></th>\n",
       "      <th>entity</th>\n",
       "      <th>latent_dimension_0</th>\n",
       "      <th>latent_dimension_1</th>\n",
       "    </tr>\n",
       "  </thead>\n",
       "  <tbody>\n",
       "    <tr>\n",
       "      <th>0</th>\n",
       "      <td>0</td>\n",
       "      <td>0.830639</td>\n",
       "      <td>0.311642</td>\n",
       "    </tr>\n",
       "    <tr>\n",
       "      <th>1</th>\n",
       "      <td>1</td>\n",
       "      <td>-0.104247</td>\n",
       "      <td>0.956746</td>\n",
       "    </tr>\n",
       "    <tr>\n",
       "      <th>2</th>\n",
       "      <td>2</td>\n",
       "      <td>-1.606626</td>\n",
       "      <td>0.986588</td>\n",
       "    </tr>\n",
       "    <tr>\n",
       "      <th>3</th>\n",
       "      <td>3</td>\n",
       "      <td>0.826658</td>\n",
       "      <td>-0.009683</td>\n",
       "    </tr>\n",
       "    <tr>\n",
       "      <th>4</th>\n",
       "      <td>4</td>\n",
       "      <td>0.888845</td>\n",
       "      <td>0.799158</td>\n",
       "    </tr>\n",
       "    <tr>\n",
       "      <th>5</th>\n",
       "      <td>5</td>\n",
       "      <td>0.932746</td>\n",
       "      <td>0.707684</td>\n",
       "    </tr>\n",
       "    <tr>\n",
       "      <th>6</th>\n",
       "      <td>6</td>\n",
       "      <td>-0.908047</td>\n",
       "      <td>1.137756</td>\n",
       "    </tr>\n",
       "    <tr>\n",
       "      <th>7</th>\n",
       "      <td>7</td>\n",
       "      <td>0.491547</td>\n",
       "      <td>0.490506</td>\n",
       "    </tr>\n",
       "    <tr>\n",
       "      <th>8</th>\n",
       "      <td>8</td>\n",
       "      <td>0.499216</td>\n",
       "      <td>0.606797</td>\n",
       "    </tr>\n",
       "    <tr>\n",
       "      <th>9</th>\n",
       "      <td>9</td>\n",
       "      <td>-0.182970</td>\n",
       "      <td>-2.006722</td>\n",
       "    </tr>\n",
       "  </tbody>\n",
       "</table>\n",
       "</div>"
      ],
      "text/plain": [
       "  entity  latent_dimension_0  latent_dimension_1\n",
       "0      0            0.830639            0.311642\n",
       "1      1           -0.104247            0.956746\n",
       "2      2           -1.606626            0.986588\n",
       "3      3            0.826658           -0.009683\n",
       "4      4            0.888845            0.799158\n",
       "5      5            0.932746            0.707684\n",
       "6      6           -0.908047            1.137756\n",
       "7      7            0.491547            0.490506\n",
       "8      8            0.499216            0.606797\n",
       "9      9           -0.182970           -2.006722"
      ]
     },
     "execution_count": 19,
     "metadata": {},
     "output_type": "execute_result"
    }
   ],
   "source": [
    "X = attiembedding_model.convert_to_group_ideological_embedding(target_coords, df_ref_group.rename(columns={'i':'entity','k':'group'}))\n",
    "X"
   ]
  },
  {
   "cell_type": "code",
   "execution_count": 20,
   "id": "0e7e3e29",
   "metadata": {},
   "outputs": [],
   "source": [
    "Y = group_attitudes.rename(columns={'k':'entity'})"
   ]
  },
  {
   "cell_type": "markdown",
   "id": "fbd8d4ab",
   "metadata": {},
   "source": [
    "Using positions of groups, we can compute a map between ideological and attitudinal space."
   ]
  },
  {
   "cell_type": "code",
   "execution_count": 21,
   "id": "24fb6bda",
   "metadata": {},
   "outputs": [
    {
     "name": "stdout",
     "output_type": "stream",
     "text": [
      "Groups:  ['1' '2' '3' '4' '5' '6' '8' '9']\n",
      "Y columns:  3 Index(['entity', 'issue_1', 'issue_2'], dtype='object')\n",
      "Number of political parties:  8\n"
     ]
    },
    {
     "data": {
      "text/plain": [
       "AttitudinalEmbedding(N=2)"
      ]
     },
     "execution_count": 21,
     "metadata": {},
     "output_type": "execute_result"
    }
   ],
   "source": [
    "attiembedding_model.fit(X, Y)"
   ]
  },
  {
   "cell_type": "markdown",
   "id": "2d38047c",
   "metadata": {},
   "source": [
    "If we provide our target coordinates with an entity column, we can transform their coordinates to attitudinal space."
   ]
  },
  {
   "cell_type": "code",
   "execution_count": 22,
   "id": "b588186b",
   "metadata": {},
   "outputs": [
    {
     "data": {
      "text/html": [
       "<div>\n",
       "<style scoped>\n",
       "    .dataframe tbody tr th:only-of-type {\n",
       "        vertical-align: middle;\n",
       "    }\n",
       "\n",
       "    .dataframe tbody tr th {\n",
       "        vertical-align: top;\n",
       "    }\n",
       "\n",
       "    .dataframe thead th {\n",
       "        text-align: right;\n",
       "    }\n",
       "</style>\n",
       "<table border=\"1\" class=\"dataframe\">\n",
       "  <thead>\n",
       "    <tr style=\"text-align: right;\">\n",
       "      <th></th>\n",
       "      <th>entity</th>\n",
       "      <th>issue_1</th>\n",
       "      <th>issue_2</th>\n",
       "    </tr>\n",
       "  </thead>\n",
       "  <tbody>\n",
       "    <tr>\n",
       "      <th>0</th>\n",
       "      <td>645</td>\n",
       "      <td>5.557009</td>\n",
       "      <td>3.401628</td>\n",
       "    </tr>\n",
       "    <tr>\n",
       "      <th>1</th>\n",
       "      <td>343</td>\n",
       "      <td>5.762221</td>\n",
       "      <td>3.371741</td>\n",
       "    </tr>\n",
       "    <tr>\n",
       "      <th>2</th>\n",
       "      <td>659</td>\n",
       "      <td>5.783330</td>\n",
       "      <td>3.451144</td>\n",
       "    </tr>\n",
       "    <tr>\n",
       "      <th>3</th>\n",
       "      <td>328</td>\n",
       "      <td>5.395974</td>\n",
       "      <td>4.509674</td>\n",
       "    </tr>\n",
       "    <tr>\n",
       "      <th>4</th>\n",
       "      <td>182</td>\n",
       "      <td>6.306557</td>\n",
       "      <td>5.246663</td>\n",
       "    </tr>\n",
       "    <tr>\n",
       "      <th>...</th>\n",
       "      <td>...</td>\n",
       "      <td>...</td>\n",
       "      <td>...</td>\n",
       "    </tr>\n",
       "    <tr>\n",
       "      <th>686</th>\n",
       "      <td>184</td>\n",
       "      <td>6.747475</td>\n",
       "      <td>3.533548</td>\n",
       "    </tr>\n",
       "    <tr>\n",
       "      <th>687</th>\n",
       "      <td>35</td>\n",
       "      <td>6.836078</td>\n",
       "      <td>3.694093</td>\n",
       "    </tr>\n",
       "    <tr>\n",
       "      <th>688</th>\n",
       "      <td>761</td>\n",
       "      <td>5.563818</td>\n",
       "      <td>3.636186</td>\n",
       "    </tr>\n",
       "    <tr>\n",
       "      <th>689</th>\n",
       "      <td>744</td>\n",
       "      <td>6.140177</td>\n",
       "      <td>3.989638</td>\n",
       "    </tr>\n",
       "    <tr>\n",
       "      <th>690</th>\n",
       "      <td>804</td>\n",
       "      <td>5.341527</td>\n",
       "      <td>3.831390</td>\n",
       "    </tr>\n",
       "  </tbody>\n",
       "</table>\n",
       "<p>691 rows × 3 columns</p>\n",
       "</div>"
      ],
      "text/plain": [
       "    entity   issue_1   issue_2\n",
       "0      645  5.557009  3.401628\n",
       "1      343  5.762221  3.371741\n",
       "2      659  5.783330  3.451144\n",
       "3      328  5.395974  4.509674\n",
       "4      182  6.306557  5.246663\n",
       "..     ...       ...       ...\n",
       "686    184  6.747475  3.533548\n",
       "687     35  6.836078  3.694093\n",
       "688    761  5.563818  3.636186\n",
       "689    744  6.140177  3.989638\n",
       "690    804  5.341527  3.831390\n",
       "\n",
       "[691 rows x 3 columns]"
      ]
     },
     "execution_count": 22,
     "metadata": {},
     "output_type": "execute_result"
    }
   ],
   "source": [
    "target_coords['entity'] = target_coords.index\n",
    "target_attitudinal = attiembedding_model.transform(target_coords)\n",
    "target_attitudinal"
   ]
  },
  {
   "cell_type": "markdown",
   "id": "0693c420",
   "metadata": {},
   "source": [
    "Similarly, for source nodes:"
   ]
  },
  {
   "cell_type": "code",
   "execution_count": 23,
   "id": "6cc97cfc",
   "metadata": {},
   "outputs": [
    {
     "data": {
      "text/html": [
       "<div>\n",
       "<style scoped>\n",
       "    .dataframe tbody tr th:only-of-type {\n",
       "        vertical-align: middle;\n",
       "    }\n",
       "\n",
       "    .dataframe tbody tr th {\n",
       "        vertical-align: top;\n",
       "    }\n",
       "\n",
       "    .dataframe thead th {\n",
       "        text-align: right;\n",
       "    }\n",
       "</style>\n",
       "<table border=\"1\" class=\"dataframe\">\n",
       "  <thead>\n",
       "    <tr style=\"text-align: right;\">\n",
       "      <th></th>\n",
       "      <th>entity</th>\n",
       "      <th>issue_1</th>\n",
       "      <th>issue_2</th>\n",
       "    </tr>\n",
       "  </thead>\n",
       "  <tbody>\n",
       "    <tr>\n",
       "      <th>0</th>\n",
       "      <td>108730</td>\n",
       "      <td>4.383179</td>\n",
       "      <td>5.465011</td>\n",
       "    </tr>\n",
       "    <tr>\n",
       "      <th>1</th>\n",
       "      <td>307685</td>\n",
       "      <td>5.123982</td>\n",
       "      <td>3.212059</td>\n",
       "    </tr>\n",
       "    <tr>\n",
       "      <th>2</th>\n",
       "      <td>297595</td>\n",
       "      <td>5.623687</td>\n",
       "      <td>4.050412</td>\n",
       "    </tr>\n",
       "    <tr>\n",
       "      <th>3</th>\n",
       "      <td>4117</td>\n",
       "      <td>5.223101</td>\n",
       "      <td>3.596217</td>\n",
       "    </tr>\n",
       "    <tr>\n",
       "      <th>4</th>\n",
       "      <td>21901</td>\n",
       "      <td>5.887279</td>\n",
       "      <td>2.768070</td>\n",
       "    </tr>\n",
       "    <tr>\n",
       "      <th>...</th>\n",
       "      <td>...</td>\n",
       "      <td>...</td>\n",
       "      <td>...</td>\n",
       "    </tr>\n",
       "    <tr>\n",
       "      <th>305960</th>\n",
       "      <td>256106</td>\n",
       "      <td>7.242288</td>\n",
       "      <td>2.870083</td>\n",
       "    </tr>\n",
       "    <tr>\n",
       "      <th>305961</th>\n",
       "      <td>256109</td>\n",
       "      <td>7.242288</td>\n",
       "      <td>2.870083</td>\n",
       "    </tr>\n",
       "    <tr>\n",
       "      <th>305962</th>\n",
       "      <td>42777</td>\n",
       "      <td>7.364822</td>\n",
       "      <td>3.087048</td>\n",
       "    </tr>\n",
       "    <tr>\n",
       "      <th>305963</th>\n",
       "      <td>27665</td>\n",
       "      <td>7.364822</td>\n",
       "      <td>3.087048</td>\n",
       "    </tr>\n",
       "    <tr>\n",
       "      <th>305964</th>\n",
       "      <td>307889</td>\n",
       "      <td>5.654645</td>\n",
       "      <td>2.982649</td>\n",
       "    </tr>\n",
       "  </tbody>\n",
       "</table>\n",
       "<p>305965 rows × 3 columns</p>\n",
       "</div>"
      ],
      "text/plain": [
       "        entity   issue_1   issue_2\n",
       "0       108730  4.383179  5.465011\n",
       "1       307685  5.123982  3.212059\n",
       "2       297595  5.623687  4.050412\n",
       "3         4117  5.223101  3.596217\n",
       "4        21901  5.887279  2.768070\n",
       "...        ...       ...       ...\n",
       "305960  256106  7.242288  2.870083\n",
       "305961  256109  7.242288  2.870083\n",
       "305962   42777  7.364822  3.087048\n",
       "305963   27665  7.364822  3.087048\n",
       "305964  307889  5.654645  2.982649\n",
       "\n",
       "[305965 rows x 3 columns]"
      ]
     },
     "execution_count": 23,
     "metadata": {},
     "output_type": "execute_result"
    }
   ],
   "source": [
    "source_coords['entity'] = source_coords.index\n",
    "source_attitudinal = attiembedding_model.transform(source_coords)\n",
    "source_attitudinal"
   ]
  },
  {
   "cell_type": "markdown",
   "id": "d685b331",
   "metadata": {},
   "source": [
    "And if we put again the groups of each target user, we can compute party positions according to the social network, and plot all nodes and groups in attitudinal space."
   ]
  },
  {
   "cell_type": "code",
   "execution_count": 24,
   "id": "33a1a435",
   "metadata": {
    "scrolled": false
   },
   "outputs": [
    {
     "data": {
      "image/png": "[encoded data removed]",
      "text/plain": [
       "<Figure size 432x432 with 3 Axes>"
      ]
     },
     "metadata": {
      "needs_background": "light"
     },
     "output_type": "display_data"
    }
   ],
   "source": [
    "target_attitudinal['k'] = target_attitudinal['entity'].map(pd.Series(index=df_ref_group['i'].values,data=df_ref_group['k'].values))\n",
    "\n",
    "g = sn.jointplot(data=source_attitudinal.drop_duplicates(),x='issue_1',y='issue_2',kind=\"hex\")\n",
    "ax=g.ax_joint\n",
    "for k in target_attitudinal['k'].unique():\n",
    "    df_k = target_attitudinal[target_attitudinal['k']==k]\n",
    "    df_k_mean = df_k[['issue_1','issue_2']].mean()\n",
    "    ax.scatter(df_k['issue_1'],df_k['issue_2'],marker='+',s=30,alpha=0.5,color=color_dic[k])\n",
    "    ax.plot(df_k_mean['issue_1'],df_k_mean['issue_2'],'o',mec='k',color=color_dic[k],ms=7)"
   ]
  },
  {
   "cell_type": "code",
   "execution_count": null,
   "id": "c1888ae6",
   "metadata": {},
   "outputs": [],
   "source": []
  }
 ],
 "metadata": {
  "kernelspec": {
   "display_name": "Python 3",
   "language": "python",
   "name": "python3"
  },
  "language_info": {
   "codemirror_mode": {
    "name": "ipython",
    "version": 3
   },
   "file_extension": ".py",
   "mimetype": "text/x-python",
   "name": "python",
   "nbconvert_exporter": "python",
   "pygments_lexer": "ipython3",
   "version": "3.6.15"
  }
 },
 "nbformat": 4,
 "nbformat_minor": 5
}
