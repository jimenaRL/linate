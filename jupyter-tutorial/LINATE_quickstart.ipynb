{
 "cells": [
  {
   "cell_type": "markdown",
   "id": "1ec69919",
   "metadata": {},
   "source": [
    "# LINATE Quickstart Tutorial"
   ]
  },
  {
   "cell_type": "markdown",
   "id": "940afadf",
   "metadata": {},
   "source": [
    "LINATE stands for \"Language-Independent Network ATtitudinal Embedding\". As its name suggests, it's a module for embedding social networks (graphs) in attitudinal spaces. Attitudinal spaces are geometrical opinion spaces where dimensions act as indicators of positive or negative opinions (i.e., attitudes) towards identifiable attitudinal objects (e.g., ideological positions such as left- or right-wing ideologies, or policy positions such as increasing tax redistribution, or increasing environmental protection).\n",
    "\n",
    "This module provides tools for two methods: \n",
    "\n",
    "1) Ideological embedding: producing a graph embedding in an latent ideological space, where dimensions don't have explicit meaning, but are related to an homophilic model underlying the choises of users forming the graph.\n",
    "\n",
    "2) Attitudinal embedding: mapping this embedded graph onto a second space that does have explicit meaning for its dimensions. For this, the module uses the position of some reference points that have known positions in both spaces.\n",
    "\n",
    "Check our publication for further details:\n",
    "\n",
    "Ramaciotti Morales, Pedro ,Jean-Philippe Cointet, Gabriel Muñoz Zolotoochin, Antonio Fernández Peralta, Gerardo Iñiguez, and Armin Pournaki. \"Inferring Attitudinal Spaces in Social Networks.\" (2022).\n",
    "https://hal.archives-ouvertes.fr/hal-03573188/document\n"
   ]
  },
  {
   "cell_type": "markdown",
   "id": "f32ca854",
   "metadata": {},
   "source": [
    "## Embedding a bipartite graph in latent its ideological space"
   ]
  },
  {
   "cell_type": "code",
   "execution_count": null,
   "id": "e1f5a59a",
   "metadata": {},
   "outputs": [],
   "source": [
    "import pandas as pd\n",
    "from linate import IdeologicalEmbedding"
   ]
  },
  {
   "cell_type": "markdown",
   "id": "09a95c06",
   "metadata": {},
   "source": [
    "We load a bipartite social graph of reference users $i$ being followed (on Twitter) by users $j$. Each row must be an edge, i.e., a comma separated pair of node names. In this example, nodes $i$ are French parliamentarians on Twitter, and $j$ are their followers."
   ]
  },
  {
   "cell_type": "code",
   "execution_count": null,
   "id": "4aec6a0a",
   "metadata": {},
   "outputs": [],
   "source": [
    "bipartite = pd.read_csv('bipartite_graph.csv',dtype=str)\n",
    "print('columns :'+str(bipartite.columns))\n",
    "print('edges: '+str(bipartite.shape[0]))\n",
    "print('num. of reference nodes i: '+ str(bipartite['i'].nunique()))\n",
    "print('num. of follower nodes j: '+ str(bipartite['j'].nunique()))"
   ]
  },
  {
   "cell_type": "markdown",
   "id": "4eb5893c",
   "metadata": {},
   "source": [
    "We load the model, choosing the number of latent dimensions of the embedding, and the number of neighbohrs that a users $j$ must have to be kept in the bipartite graph (we normally want users that have made enough choices)."
   ]
  },
  {
   "cell_type": "code",
   "execution_count": null,
   "id": "06d82196",
   "metadata": {},
   "outputs": [],
   "source": [
    "ideoembedding_model = IdeologicalEmbedding(n_latent_dimensions = 2,in_degree_threshold = 3)"
   ]
  },
  {
   "cell_type": "markdown",
   "id": "ad872282",
   "metadata": {},
   "source": [
    "LINATE works with directed graphs because it models networks as social choices: who chooses to connect or follow whom. Thus, we need to specify the direction of edges, which nodes are the source (those that chose) and which ones are the target (those that are chosen).\n",
    "\n",
    "Note: there are different available \"engines\" that you should look out depending on how much memory you have on your machine. "
   ]
  },
  {
   "cell_type": "code",
   "execution_count": null,
   "id": "a91a4022",
   "metadata": {},
   "outputs": [],
   "source": [
    "bipartite.rename(columns={'i':'target','j':'source'},inplace=True)\n",
    "bipartite"
   ]
  },
  {
   "cell_type": "markdown",
   "id": "d662ea81",
   "metadata": {},
   "source": [
    "Alternatively, you can use the provided data loader."
   ]
  },
  {
   "cell_type": "code",
   "execution_count": null,
   "id": "a05aec34",
   "metadata": {},
   "outputs": [],
   "source": [
    "bipartite = ideoembedding_model.load_input_from_file(\n",
    "    'bipartite_graph.csv',\n",
    "    header_names={'target':'i','source':'j'})"
   ]
  },
  {
   "cell_type": "code",
   "execution_count": null,
   "id": "0fb216f7",
   "metadata": {},
   "outputs": [],
   "source": [
    "ideoembedding_model.fit(bipartite)"
   ]
  },
  {
   "cell_type": "markdown",
   "id": "ca4ae7fe",
   "metadata": {},
   "source": [
    "Once the ideological model is computed, we can retrieve the coordinates of the target nodes in the selected number of dimensions..."
   ]
  },
  {
   "cell_type": "code",
   "execution_count": null,
   "id": "a037aafe",
   "metadata": {},
   "outputs": [],
   "source": [
    "target_coords = ideoembedding_model.ideological_embedding_target_latent_dimensions_\n",
    "target_coords"
   ]
  },
  {
   "cell_type": "markdown",
   "id": "90a3f31a",
   "metadata": {},
   "source": [
    "... and the coordinates of the followers."
   ]
  },
  {
   "cell_type": "code",
   "execution_count": null,
   "id": "b3ddd3be",
   "metadata": {},
   "outputs": [],
   "source": [
    "source_coords = ideoembedding_model.ideological_embedding_source_latent_dimensions_\n",
    "source_coords"
   ]
  },
  {
   "cell_type": "markdown",
   "id": "433bdd5d",
   "metadata": {},
   "source": [
    "Reference users often come in groups, which is helpful for interpreting what dimensions are capturing. For this, we need a file identifying each reference users $i$ with a group $k$. In our example, parliamentarians belong to parties."
   ]
  },
  {
   "cell_type": "code",
   "execution_count": null,
   "id": "06325a74",
   "metadata": {},
   "outputs": [],
   "source": [
    "df_ref_group=pd.read_csv('reference_group.csv', dtype=str)\n",
    "df_ref_group"
   ]
  },
  {
   "cell_type": "markdown",
   "id": "30c300ca",
   "metadata": {},
   "source": [
    "Let's plot the ideological positions of references, followers, and groups. To plot users and groups, we attribute groups to target users:"
   ]
  },
  {
   "cell_type": "code",
   "execution_count": null,
   "id": "8661fc69",
   "metadata": {},
   "outputs": [],
   "source": [
    "import seaborn as sn\n",
    "import matplotlib.pyplot as plt\n",
    "color_dic = {'0':'blue','1':'red','2':'gold','3':'orange','4':'green',\n",
    "             '5':'violet','6':'cyan','7':'magenta','8':'brown','9':'gray'}"
   ]
  },
  {
   "cell_type": "code",
   "execution_count": null,
   "id": "aa256f80",
   "metadata": {},
   "outputs": [],
   "source": [
    "target_coords['k'] = target_coords.index.map(df_ref_group.set_index('i')['k'])"
   ]
  },
  {
   "cell_type": "code",
   "execution_count": null,
   "id": "e7bb9a72",
   "metadata": {},
   "outputs": [],
   "source": [
    "g = sn.jointplot(data=source_coords.drop_duplicates(),x='latent_dimension_0',y='latent_dimension_1',kind=\"hex\")\n",
    "ax=g.ax_joint\n",
    "for k in target_coords['k'].unique():\n",
    "    df_k = target_coords[target_coords['k']==k]\n",
    "    ax.scatter(df_k['latent_dimension_0'],df_k['latent_dimension_1'],\n",
    "               marker='+',s=30,alpha=0.5,color=color_dic[k])"
   ]
  },
  {
   "cell_type": "markdown",
   "id": "c709436c",
   "metadata": {},
   "source": [
    "## Embedding a bipartite graph in an attitudinal reference space\n",
    "\n",
    "To embed map the network onto a space with explicit meanings for dimensions, we need reference points, such as the positions of parties for some issues."
   ]
  },
  {
   "cell_type": "code",
   "execution_count": null,
   "id": "d7a96f91",
   "metadata": {},
   "outputs": [],
   "source": [
    "group_attitudes = pd.read_csv('group_attitudes.csv')\n",
    "group_attitudes['k'] = group_attitudes['k'].astype(str)\n",
    "group_attitudes"
   ]
  },
  {
   "cell_type": "markdown",
   "id": "659b3524",
   "metadata": {},
   "source": [
    "Because we know the positions of targets and their groups, we can compute group positions as means."
   ]
  },
  {
   "cell_type": "code",
   "execution_count": null,
   "id": "b4d49246",
   "metadata": {},
   "outputs": [],
   "source": [
    "group_ideologies = target_coords.groupby('k').mean()\n",
    "group_ideologies"
   ]
  },
  {
   "cell_type": "code",
   "execution_count": null,
   "id": "180aa718",
   "metadata": {},
   "outputs": [],
   "source": [
    "fig = plt.figure(figsize=(10,4))# width, height inches\n",
    "ax = {1:fig.add_subplot(1,2,1),2:fig.add_subplot(1,2,2)}\n",
    "for k,row in group_ideologies[group_ideologies.index.isin(group_attitudes['k'])].iterrows():\n",
    "    ax[1].plot(row['latent_dimension_0'],row['latent_dimension_1'],'o',mec='k',color=color_dic[k])\n",
    "ax[1].set_xlabel('latent_dimension_0'),ax[1].set_ylabel('latent_dimension_1')\n",
    "ax[1].set_title('Group positions in ideological space')\n",
    "for k,row in group_attitudes.iterrows():\n",
    "    ax[2].plot(row['issue_1'],row['issue_2'],'o',mec='k',color=color_dic[row['k']])\n",
    "ax[2].set_xlabel('issue_1'),ax[2].set_ylabel('issue_2')\n",
    "ax[2].set_title('Group positions in attitudinal space')"
   ]
  },
  {
   "cell_type": "code",
   "execution_count": null,
   "id": "eb1ea36c",
   "metadata": {},
   "outputs": [],
   "source": [
    "from linate import AttitudinalEmbedding\n",
    "attiembedding_model = AttitudinalEmbedding(N = 2)"
   ]
  },
  {
   "cell_type": "markdown",
   "id": "0a6098f4",
   "metadata": {},
   "source": [
    "We need a DataFrame containing the latent coordinates, but also name of the nodes:"
   ]
  },
  {
   "cell_type": "code",
   "execution_count": null,
   "id": "2075befa",
   "metadata": {},
   "outputs": [],
   "source": [
    "target_coords['entity'] = target_coords.index \n",
    "target_coords"
   ]
  },
  {
   "cell_type": "code",
   "execution_count": null,
   "id": "92c3c58f",
   "metadata": {},
   "outputs": [],
   "source": [
    "X = attiembedding_model.convert_to_group_ideological_embedding(target_coords, df_ref_group.rename(columns={'i':'entity','k':'group'}))\n",
    "X"
   ]
  },
  {
   "cell_type": "code",
   "execution_count": null,
   "id": "0e7e3e29",
   "metadata": {},
   "outputs": [],
   "source": [
    "Y = group_attitudes.rename(columns={'k':'entity'})"
   ]
  },
  {
   "cell_type": "markdown",
   "id": "fbd8d4ab",
   "metadata": {},
   "source": [
    "Using positions of groups, we can compute a map between ideological and attitudinal space."
   ]
  },
  {
   "cell_type": "code",
   "execution_count": null,
   "id": "24fb6bda",
   "metadata": {},
   "outputs": [],
   "source": [
    "attiembedding_model.fit(X, Y)"
   ]
  },
  {
   "cell_type": "markdown",
   "id": "2d38047c",
   "metadata": {},
   "source": [
    "If we provide our target coordinates with an entity column, we can transform their coordinates to attitudinal space."
   ]
  },
  {
   "cell_type": "code",
   "execution_count": null,
   "id": "b588186b",
   "metadata": {},
   "outputs": [],
   "source": [
    "target_coords['entity'] = target_coords.index\n",
    "target_attitudinal = attiembedding_model.transform(target_coords)\n",
    "target_attitudinal"
   ]
  },
  {
   "cell_type": "markdown",
   "id": "0693c420",
   "metadata": {},
   "source": [
    "Similarly, for source nodes:"
   ]
  },
  {
   "cell_type": "code",
   "execution_count": null,
   "id": "6cc97cfc",
   "metadata": {},
   "outputs": [],
   "source": [
    "source_coords['entity'] = source_coords.index\n",
    "source_attitudinal = attiembedding_model.transform(source_coords)\n",
    "source_attitudinal"
   ]
  },
  {
   "cell_type": "markdown",
   "id": "d685b331",
   "metadata": {},
   "source": [
    "And if we put again the groups of each target user, we can compute party positions according to the social network, and plot all nodes and groups in attitudinal space."
   ]
  },
  {
   "cell_type": "code",
   "execution_count": null,
   "id": "33a1a435",
   "metadata": {
    "scrolled": false
   },
   "outputs": [],
   "source": [
    "target_attitudinal['k'] = target_attitudinal['entity'].map(pd.Series(index=df_ref_group['i'].values,data=df_ref_group['k'].values))\n",
    "\n",
    "g = sn.jointplot(data=source_attitudinal.drop_duplicates(),x='issue_1',y='issue_2',kind=\"hex\")\n",
    "ax=g.ax_joint\n",
    "for k in target_attitudinal['k'].unique():\n",
    "    df_k = target_attitudinal[target_attitudinal['k']==k]\n",
    "    df_k_mean = df_k[['issue_1','issue_2']].mean()\n",
    "    ax.scatter(df_k['issue_1'],df_k['issue_2'],marker='+',s=30,alpha=0.5,color=color_dic[k])\n",
    "    ax.plot(df_k_mean['issue_1'],df_k_mean['issue_2'],'o',mec='k',color=color_dic[k],ms=7)"
   ]
  },
  {
   "cell_type": "code",
   "execution_count": null,
   "id": "c1888ae6",
   "metadata": {},
   "outputs": [],
   "source": []
  }
 ],
 "metadata": {
  "kernelspec": {
   "display_name": "Python 3",
   "language": "python",
   "name": "python3"
  },
  "language_info": {
   "codemirror_mode": {
    "name": "ipython",
    "version": 3
   },
   "file_extension": ".py",
   "mimetype": "text/x-python",
   "name": "python",
   "nbconvert_exporter": "python",
   "pygments_lexer": "ipython3",
   "version": "3.6.15"
  }
 },
 "nbformat": 4,
 "nbformat_minor": 5
}
